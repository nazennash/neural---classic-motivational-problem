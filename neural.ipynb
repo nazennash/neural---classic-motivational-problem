{
 "cells": [
  {
   "cell_type": "code",
   "execution_count": 2,
   "metadata": {},
   "outputs": [],
   "source": [
    "import numpy as np"
   ]
  },
  {
   "cell_type": "code",
   "execution_count": 3,
   "metadata": {},
   "outputs": [
    {
     "name": "stdout",
     "output_type": "stream",
     "text": [
      "3.2\n"
     ]
    }
   ],
   "source": [
    "inputs = [2,4,7]\n",
    "weights = [0.3, 0.5, -0.2]\n",
    "bias = 2\n",
    "\n",
    "output = np.dot(inputs, weights) + bias\n",
    "print(output)"
   ]
  },
  {
   "cell_type": "code",
   "execution_count": 11,
   "metadata": {},
   "outputs": [
    {
     "name": "stdout",
     "output_type": "stream",
     "text": [
      "[1, 2, 3, 4, 5, 6, 7, 8, 9, 10]\n",
      "[1, 2, 3, 4, 5, 6, 7, 8, 9, 10]\n",
      "395\n"
     ]
    }
   ],
   "source": [
    "input = weights = list(range(1,11))\n",
    "\n",
    "print(input)\n",
    "print(weights)\n",
    "\n",
    "bias = 10\n",
    "output = 0\n",
    "\n",
    "for i in range(len(input)):\n",
    "    output += input[i] * weights[i]\n",
    "\n",
    "print(output + bias)"
   ]
  },
  {
   "cell_type": "code",
   "execution_count": 47,
   "metadata": {},
   "outputs": [
    {
     "name": "stdout",
     "output_type": "stream",
     "text": [
      "[3 0 0]\n",
      "[0.20045141 0.87791345 0.08454789]\n",
      "10.601354231660194\n"
     ]
    }
   ],
   "source": [
    "inputs = np.random.randint(0, 10, 3)\n",
    "weights = np.random.random(3)\n",
    "bias = 10\n",
    "\n",
    "print (inputs)\n",
    "print(weights)\n",
    "\n",
    "output = np.dot(inputs, weights) + bias\n",
    "print(output)"
   ]
  },
  {
   "cell_type": "code",
   "execution_count": 73,
   "metadata": {},
   "outputs": [
    {
     "name": "stdout",
     "output_type": "stream",
     "text": [
      "(4, 3)\n",
      "2.3\n",
      "2.46\n",
      "0.20999999999999996\n",
      "4.33\n",
      "[2.3  2.46 0.21 4.33]\n"
     ]
    }
   ],
   "source": [
    "inputs = [1,2,3]\n",
    "weights = np.array([\n",
    "    [0.2, 0.8, -0.5], \n",
    "    [0.5, -0.91, 0.26], \n",
    "    [-0.26, -0.27, 0.17],\n",
    "    [0.87, 0.03, 0.8]\n",
    "    ])\n",
    "\n",
    "print(weights.shape)\n",
    "\n",
    "bias = [2, 3, 0.5, 1]\n",
    "\n",
    "output1 = inputs[0] * weights[0][0] + inputs[1] * weights[0][1] + inputs[2] * weights[0][2] + bias[0]\n",
    "output2 = inputs[0] * weights[1][0] + inputs[1] * weights[1][1] + inputs[2] * weights[1][2] + bias[1]\n",
    "output3 = inputs[0] * weights[2][0] + inputs[1] * weights[2][1] + inputs[2] * weights[2][2] + bias[2]\n",
    "output4 = inputs[0] * weights[3][0] + inputs[1] * weights[3][1] + inputs[2] * weights[3][2] + bias[3]\n",
    "# output1 = np.dot(inputs, weights[0]) + bias[0]\n",
    "print(output1)\n",
    "print(output2)\n",
    "print(output3)\n",
    "print(output4)\n",
    "\n",
    "# output = np.dot(inputs, np.array(weights).T) + bias\n",
    "output = np.dot(weights,inputs) + bias\n",
    "print(output)"
   ]
  },
  {
   "cell_type": "code",
   "execution_count": 107,
   "metadata": {},
   "outputs": [
    {
     "name": "stdout",
     "output_type": "stream",
     "text": [
      "(3,)\n",
      "(4, 3)\n",
      "[5.77054453 8.41481409 8.64154866 7.27949036]\n"
     ]
    }
   ],
   "source": [
    "inputs = np.random.randint(0, 10, 3)\n",
    "print(inputs.shape)\n",
    "\n",
    "weights = np.random.random((4, len(inputs)))\n",
    "\n",
    "print(weights.shape)\n",
    "\n",
    "bias = np.random.random(4)\n",
    "\n",
    "output = np.dot(inputs, weights.T) + bias\n",
    "\n",
    "print(output)\n"
   ]
  }
 ],
 "metadata": {
  "kernelspec": {
   "display_name": ".venv",
   "language": "python",
   "name": "python3"
  },
  "language_info": {
   "codemirror_mode": {
    "name": "ipython",
    "version": 3
   },
   "file_extension": ".py",
   "mimetype": "text/x-python",
   "name": "python",
   "nbconvert_exporter": "python",
   "pygments_lexer": "ipython3",
   "version": "3.11.9"
  }
 },
 "nbformat": 4,
 "nbformat_minor": 2
}
